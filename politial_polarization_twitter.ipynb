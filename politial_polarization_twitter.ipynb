{
  "nbformat": 4,
  "nbformat_minor": 0,
  "metadata": {
    "kernelspec": {
      "display_name": "Python 3",
      "language": "python",
      "name": "python3"
    },
    "language_info": {
      "codemirror_mode": {
        "name": "ipython",
        "version": 3
      },
      "file_extension": ".py",
      "mimetype": "text/x-python",
      "name": "python",
      "nbconvert_exporter": "python",
      "pygments_lexer": "ipython3",
      "version": "3.7.0"
    },
    "colab": {
      "name": "politial_polarization_twitter.ipynb",
      "provenance": [],
      "collapsed_sections": []
    }
  },
  "cells": [
    {
      "cell_type": "markdown",
      "metadata": {
        "id": "Hg-YXsD8euNi",
        "colab_type": "text"
      },
      "source": [
        "USA's political partisanship problem, lamented for a long time, affects the country citizens in unpredictable ways - a recent [study](https://www.vox.com/science-and-health/2020/3/31/21199271/coronavirus-in-us-trump-republicans-democrats-survey-epistemic-crisis) suggests the level of partisanship is the strongest predictor for coronavirus response. But how to gauge the gravity of this issue emprically? Inspired by Professor Elliot Ash (see his related work [here](https://papers.ssrn.com/sol3/papers.cfm?abstract_id=3205116)), whose workshop I attended during [POLTEXT conference](http://www.comptextconference.org/2nd-annual-poltext-conference-2019/) in September 2019, I attempted predicting political affiliation of users included in 2008-2017 US Congressional Tweets Dataset (Senators, Governors and one President) based on metrics engineered from their tweets. One of the most interesting challenges of this project was the lack of affiliation information in the data - this had to be scraped from Wikipedia. I managed to achieve best results through training a logistic regression classifier with accuracy above 80% for both train and test sets on a matrix of tf-idf-weighted bigrams and unigrams of the users' tweet texts. This high accuracy of prediction based only on the text of tweets suggest that at least within the platform, the level of partisanship is high."
      ]
    },
    {
      "cell_type": "markdown",
      "metadata": {
        "id": "1SLPZZVqj2bO",
        "colab_type": "text"
      },
      "source": [
        "# __Project's aim__:\n",
        "\n",
        "\n",
        "> *Attempting to predict a politician's affiliation based on her tweets*\n",
        "\n",
        "\n",
        "> *High accuracy of such prediction will suggest high levels of polarization of American politics*\n",
        "\n",
        "\n",
        "\n"
      ]
    },
    {
      "cell_type": "markdown",
      "metadata": {
        "id": "GWpes_bvkhVg",
        "colab_type": "text"
      },
      "source": [
        "## Data Exploration"
      ]
    },
    {
      "cell_type": "code",
      "metadata": {
        "id": "OVvEpMVMarb3",
        "colab_type": "code",
        "colab": {
          "base_uri": "https://localhost:8080/",
          "height": 130
        },
        "outputId": "d4bc2424-b215-4c08-ce39-614e7e5dcb25"
      },
      "source": [
        "#mouting drive\n",
        "from google.colab import drive\n",
        "drive.mount('/content/drive')"
      ],
      "execution_count": 3,
      "outputs": [
        {
          "output_type": "stream",
          "text": [
            "Go to this URL in a browser: https://accounts.google.com/o/oauth2/auth?client_id=947318989803-6bn6qk8qdgf4n4g3pfee6491hc0brc4i.apps.googleusercontent.com&redirect_uri=urn%3aietf%3awg%3aoauth%3a2.0%3aoob&response_type=code&scope=email%20https%3a%2f%2fwww.googleapis.com%2fauth%2fdocs.test%20https%3a%2f%2fwww.googleapis.com%2fauth%2fdrive%20https%3a%2f%2fwww.googleapis.com%2fauth%2fdrive.photos.readonly%20https%3a%2f%2fwww.googleapis.com%2fauth%2fpeopleapi.readonly\n",
            "\n",
            "Enter your authorization code:\n",
            "··········\n",
            "Mounted at /content/drive\n"
          ],
          "name": "stdout"
        }
      ]
    },
    {
      "cell_type": "code",
      "metadata": {
        "id": "jJtgZiDRarcJ",
        "colab_type": "code",
        "colab": {
          "base_uri": "https://localhost:8080/",
          "height": 36
        },
        "outputId": "5ff2cd16-21b1-463e-a1c3-ad109b068c50"
      },
      "source": [
        "%cd \"/content/drive/My Drive/datasets\""
      ],
      "execution_count": 6,
      "outputs": [
        {
          "output_type": "stream",
          "text": [
            "/content/drive/My Drive/datasets\n"
          ],
          "name": "stdout"
        }
      ]
    },
    {
      "cell_type": "code",
      "metadata": {
        "id": "anxZF1fVl5u-",
        "colab_type": "code",
        "colab": {
          "base_uri": "https://localhost:8080/",
          "height": 315
        },
        "outputId": "77027f0a-19fe-4661-89f4-1de0caaaa9a5"
      },
      "source": [
        "#installing libraries not supported by Google Colab\n",
        "%pip install mediawiki\n",
        "%pip install wikipedia"
      ],
      "execution_count": 10,
      "outputs": [
        {
          "output_type": "stream",
          "text": [
            "Collecting wikipedia\n",
            "  Downloading https://files.pythonhosted.org/packages/67/35/25e68fbc99e672127cc6fbb14b8ec1ba3dfef035bf1e4c90f78f24a80b7d/wikipedia-1.4.0.tar.gz\n",
            "Requirement already satisfied: beautifulsoup4 in /usr/local/lib/python3.6/dist-packages (from wikipedia) (4.6.3)\n",
            "Requirement already satisfied: requests<3.0.0,>=2.0.0 in /usr/local/lib/python3.6/dist-packages (from wikipedia) (2.21.0)\n",
            "Requirement already satisfied: urllib3<1.25,>=1.21.1 in /usr/local/lib/python3.6/dist-packages (from requests<3.0.0,>=2.0.0->wikipedia) (1.24.3)\n",
            "Requirement already satisfied: certifi>=2017.4.17 in /usr/local/lib/python3.6/dist-packages (from requests<3.0.0,>=2.0.0->wikipedia) (2020.4.5.1)\n",
            "Requirement already satisfied: idna<2.9,>=2.5 in /usr/local/lib/python3.6/dist-packages (from requests<3.0.0,>=2.0.0->wikipedia) (2.8)\n",
            "Requirement already satisfied: chardet<3.1.0,>=3.0.2 in /usr/local/lib/python3.6/dist-packages (from requests<3.0.0,>=2.0.0->wikipedia) (3.0.4)\n",
            "Building wheels for collected packages: wikipedia\n",
            "  Building wheel for wikipedia (setup.py) ... \u001b[?25l\u001b[?25hdone\n",
            "  Created wheel for wikipedia: filename=wikipedia-1.4.0-cp36-none-any.whl size=11686 sha256=e36a96052e333b809d6d1e57236a61055242017536b5421f7f56241f3d964fb4\n",
            "  Stored in directory: /root/.cache/pip/wheels/87/2a/18/4e471fd96d12114d16fe4a446d00c3b38fb9efcb744bd31f4a\n",
            "Successfully built wikipedia\n",
            "Installing collected packages: wikipedia\n",
            "Successfully installed wikipedia-1.4.0\n"
          ],
          "name": "stdout"
        }
      ]
    },
    {
      "cell_type": "code",
      "metadata": {
        "id": "dPblnokslnbB",
        "colab_type": "code",
        "colab": {}
      },
      "source": [
        "#importing libraries necessary for the exploratory analysis\n",
        "import pandas as pd\n",
        "import wikipedia\n",
        "import spacy\n",
        "import en_core_web_sm\n",
        "from pprint import pprint\n",
        "nlp = en_core_web_sm.load()"
      ],
      "execution_count": 0,
      "outputs": []
    },
    {
      "cell_type": "code",
      "metadata": {
        "id": "mgiiAn16arcT",
        "colab_type": "code",
        "colab": {}
      },
      "source": [
        "#reading first table - users\n",
        "df = pd.read_csv(\"usersjoined.csv\")"
      ],
      "execution_count": 0,
      "outputs": []
    },
    {
      "cell_type": "code",
      "metadata": {
        "id": "Ts0Uy16aarcb",
        "colab_type": "code",
        "colab": {
          "base_uri": "https://localhost:8080/",
          "height": 293
        },
        "outputId": "083b9dd3-aebe-43c0-cc66-e4b1b9d7c6d2"
      },
      "source": [
        "df.head()"
      ],
      "execution_count": 13,
      "outputs": [
        {
          "output_type": "execute_result",
          "data": {
            "text/html": [
              "<div>\n",
              "<style scoped>\n",
              "    .dataframe tbody tr th:only-of-type {\n",
              "        vertical-align: middle;\n",
              "    }\n",
              "\n",
              "    .dataframe tbody tr th {\n",
              "        vertical-align: top;\n",
              "    }\n",
              "\n",
              "    .dataframe thead th {\n",
              "        text-align: right;\n",
              "    }\n",
              "</style>\n",
              "<table border=\"1\" class=\"dataframe\">\n",
              "  <thead>\n",
              "    <tr style=\"text-align: right;\">\n",
              "      <th></th>\n",
              "      <th>id</th>\n",
              "      <th>screen_name</th>\n",
              "      <th>name</th>\n",
              "      <th>description</th>\n",
              "      <th>followers</th>\n",
              "      <th>follows</th>\n",
              "      <th>joined</th>\n",
              "      <th>tweet_count</th>\n",
              "    </tr>\n",
              "  </thead>\n",
              "  <tbody>\n",
              "    <tr>\n",
              "      <th>0</th>\n",
              "      <td>787373558</td>\n",
              "      <td>RepCummings</td>\n",
              "      <td>Elijah E. Cummings</td>\n",
              "      <td>U.S. Representative from Maryland's 7th Distri...</td>\n",
              "      <td>104521</td>\n",
              "      <td>1611</td>\n",
              "      <td>2012-08-28 16:37:01</td>\n",
              "      <td>3231.0</td>\n",
              "    </tr>\n",
              "    <tr>\n",
              "      <th>1</th>\n",
              "      <td>798973032362606600</td>\n",
              "      <td>RepValDemings</td>\n",
              "      <td>Rep. Val Demings</td>\n",
              "      <td>U.S. Representative Florida's 10th Congression...</td>\n",
              "      <td>3498</td>\n",
              "      <td>180</td>\n",
              "      <td>2016-11-16 19:36:29</td>\n",
              "      <td>689.0</td>\n",
              "    </tr>\n",
              "    <tr>\n",
              "      <th>2</th>\n",
              "      <td>237814920</td>\n",
              "      <td>RepHultgren</td>\n",
              "      <td>Rep. Randy Hultgren</td>\n",
              "      <td>Member of Congress proudly representing IL-14....</td>\n",
              "      <td>14074</td>\n",
              "      <td>1859</td>\n",
              "      <td>2011-01-13 18:03:42</td>\n",
              "      <td>3226.0</td>\n",
              "    </tr>\n",
              "    <tr>\n",
              "      <th>3</th>\n",
              "      <td>1064206014</td>\n",
              "      <td>TulsiPress</td>\n",
              "      <td>Rep. Tulsi Gabbard</td>\n",
              "      <td>Aloha - Official account of Rep Tulsi Gabbard ...</td>\n",
              "      <td>72270</td>\n",
              "      <td>1125</td>\n",
              "      <td>2013-01-05 22:57:50</td>\n",
              "      <td>2593.0</td>\n",
              "    </tr>\n",
              "    <tr>\n",
              "      <th>4</th>\n",
              "      <td>72198806</td>\n",
              "      <td>SenGillibrand</td>\n",
              "      <td>Kirsten Gillibrand</td>\n",
              "      <td>Theo and Henry's mom, U.S. Senator from New Yo...</td>\n",
              "      <td>396587</td>\n",
              "      <td>488</td>\n",
              "      <td>2009-09-07 03:53:24</td>\n",
              "      <td>3210.0</td>\n",
              "    </tr>\n",
              "  </tbody>\n",
              "</table>\n",
              "</div>"
            ],
            "text/plain": [
              "                   id    screen_name  ...               joined tweet_count\n",
              "0           787373558    RepCummings  ...  2012-08-28 16:37:01      3231.0\n",
              "1  798973032362606600  RepValDemings  ...  2016-11-16 19:36:29       689.0\n",
              "2           237814920    RepHultgren  ...  2011-01-13 18:03:42      3226.0\n",
              "3          1064206014     TulsiPress  ...  2013-01-05 22:57:50      2593.0\n",
              "4            72198806  SenGillibrand  ...  2009-09-07 03:53:24      3210.0\n",
              "\n",
              "[5 rows x 8 columns]"
            ]
          },
          "metadata": {
            "tags": []
          },
          "execution_count": 13
        }
      ]
    },
    {
      "cell_type": "markdown",
      "metadata": {
        "id": "JinD4m2IoKQj",
        "colab_type": "text"
      },
      "source": [
        "###Scraping party affiliation of politicians from Wikipedia"
      ]
    },
    {
      "cell_type": "code",
      "metadata": {
        "id": "Vdritw4Barcz",
        "colab_type": "code",
        "colab": {
          "base_uri": "https://localhost:8080/",
          "height": 36
        },
        "outputId": "f2178cab-7174-4327-f990-648bb21a64b0"
      },
      "source": [
        "#there are two main challenges with the data at this stage: not many users include\n",
        "#their political affiliation in the description, but many add titles such as \n",
        "#\"Rep.\" to their name. To perform scraping in order to define political affiliation,\n",
        "#we first need to clean up users' names.\n",
        "def spacy_name_clean(some_string):\n",
        "    \"\"\"Remove up titles (governor, representative) from strings\"\"\"\n",
        "    tagged_str = nlp(some_string)\n",
        "    namelist = [X.text for X in tagged_str.ents if X.label_ == 'PERSON']\n",
        "    if len(namelist) >= 1:\n",
        "        name = namelist[0]\n",
        "    else:\n",
        "        name = some_string\n",
        "    return name\n",
        "\n",
        "#testing if it works\n",
        "clean_name = spacy_name_clean(\"Rep. Val Demings\")\n",
        "print(clean_name)"
      ],
      "execution_count": 14,
      "outputs": [
        {
          "output_type": "stream",
          "text": [
            "Val Demings\n"
          ],
          "name": "stdout"
        }
      ]
    },
    {
      "cell_type": "code",
      "metadata": {
        "id": "PTsaN09Aarc3",
        "colab_type": "code",
        "colab": {}
      },
      "source": [
        "#applying the function on the dataframe\n",
        "df[\"cleaned_names\"] = df.name.apply(spacy_name_clean)"
      ],
      "execution_count": 0,
      "outputs": []
    },
    {
      "cell_type": "code",
      "metadata": {
        "id": "FvyCw8lharc9",
        "colab_type": "code",
        "colab": {
          "base_uri": "https://localhost:8080/",
          "height": 380
        },
        "outputId": "8480673e-27a7-4025-f3e2-19b3a874a762"
      },
      "source": [
        "df.head()"
      ],
      "execution_count": 17,
      "outputs": [
        {
          "output_type": "execute_result",
          "data": {
            "text/html": [
              "<div>\n",
              "<style scoped>\n",
              "    .dataframe tbody tr th:only-of-type {\n",
              "        vertical-align: middle;\n",
              "    }\n",
              "\n",
              "    .dataframe tbody tr th {\n",
              "        vertical-align: top;\n",
              "    }\n",
              "\n",
              "    .dataframe thead th {\n",
              "        text-align: right;\n",
              "    }\n",
              "</style>\n",
              "<table border=\"1\" class=\"dataframe\">\n",
              "  <thead>\n",
              "    <tr style=\"text-align: right;\">\n",
              "      <th></th>\n",
              "      <th>id</th>\n",
              "      <th>screen_name</th>\n",
              "      <th>name</th>\n",
              "      <th>description</th>\n",
              "      <th>followers</th>\n",
              "      <th>follows</th>\n",
              "      <th>joined</th>\n",
              "      <th>tweet_count</th>\n",
              "      <th>cleaned_names</th>\n",
              "    </tr>\n",
              "  </thead>\n",
              "  <tbody>\n",
              "    <tr>\n",
              "      <th>0</th>\n",
              "      <td>787373558</td>\n",
              "      <td>RepCummings</td>\n",
              "      <td>Elijah E. Cummings</td>\n",
              "      <td>U.S. Representative from Maryland's 7th Distri...</td>\n",
              "      <td>104521</td>\n",
              "      <td>1611</td>\n",
              "      <td>2012-08-28 16:37:01</td>\n",
              "      <td>3231.0</td>\n",
              "      <td>Elijah E. Cummings</td>\n",
              "    </tr>\n",
              "    <tr>\n",
              "      <th>1</th>\n",
              "      <td>798973032362606600</td>\n",
              "      <td>RepValDemings</td>\n",
              "      <td>Rep. Val Demings</td>\n",
              "      <td>U.S. Representative Florida's 10th Congression...</td>\n",
              "      <td>3498</td>\n",
              "      <td>180</td>\n",
              "      <td>2016-11-16 19:36:29</td>\n",
              "      <td>689.0</td>\n",
              "      <td>Val Demings</td>\n",
              "    </tr>\n",
              "    <tr>\n",
              "      <th>2</th>\n",
              "      <td>237814920</td>\n",
              "      <td>RepHultgren</td>\n",
              "      <td>Rep. Randy Hultgren</td>\n",
              "      <td>Member of Congress proudly representing IL-14....</td>\n",
              "      <td>14074</td>\n",
              "      <td>1859</td>\n",
              "      <td>2011-01-13 18:03:42</td>\n",
              "      <td>3226.0</td>\n",
              "      <td>Randy Hultgren</td>\n",
              "    </tr>\n",
              "    <tr>\n",
              "      <th>3</th>\n",
              "      <td>1064206014</td>\n",
              "      <td>TulsiPress</td>\n",
              "      <td>Rep. Tulsi Gabbard</td>\n",
              "      <td>Aloha - Official account of Rep Tulsi Gabbard ...</td>\n",
              "      <td>72270</td>\n",
              "      <td>1125</td>\n",
              "      <td>2013-01-05 22:57:50</td>\n",
              "      <td>2593.0</td>\n",
              "      <td>Tulsi Gabbard</td>\n",
              "    </tr>\n",
              "    <tr>\n",
              "      <th>4</th>\n",
              "      <td>72198806</td>\n",
              "      <td>SenGillibrand</td>\n",
              "      <td>Kirsten Gillibrand</td>\n",
              "      <td>Theo and Henry's mom, U.S. Senator from New Yo...</td>\n",
              "      <td>396587</td>\n",
              "      <td>488</td>\n",
              "      <td>2009-09-07 03:53:24</td>\n",
              "      <td>3210.0</td>\n",
              "      <td>Kirsten Gillibrand</td>\n",
              "    </tr>\n",
              "  </tbody>\n",
              "</table>\n",
              "</div>"
            ],
            "text/plain": [
              "                   id    screen_name  ... tweet_count       cleaned_names\n",
              "0           787373558    RepCummings  ...      3231.0  Elijah E. Cummings\n",
              "1  798973032362606600  RepValDemings  ...       689.0         Val Demings\n",
              "2           237814920    RepHultgren  ...      3226.0      Randy Hultgren\n",
              "3          1064206014     TulsiPress  ...      2593.0       Tulsi Gabbard\n",
              "4            72198806  SenGillibrand  ...      3210.0  Kirsten Gillibrand\n",
              "\n",
              "[5 rows x 9 columns]"
            ]
          },
          "metadata": {
            "tags": []
          },
          "execution_count": 17
        }
      ]
    },
    {
      "cell_type": "code",
      "metadata": {
        "id": "BuLcWjc4ardC",
        "colab_type": "code",
        "colab": {}
      },
      "source": [
        "#importing libraries necessary to scrape wikipedia\n",
        "from bs4 import BeautifulSoup\n",
        "import urllib.request, urllib.parse, urllib.error\n",
        "from mediawiki import MediaWiki\n",
        "import ssl\n",
        "import re\n",
        "\n",
        "\n",
        "ctx = ssl.create_default_context()\n",
        "ctx.check_hostname = False\n",
        "ctx.verify_mode = ssl.CERT_NONE"
      ],
      "execution_count": 0,
      "outputs": []
    },
    {
      "cell_type": "code",
      "metadata": {
        "id": "NpVgua6DardJ",
        "colab_type": "code",
        "colab": {}
      },
      "source": [
        "def polit_affil_through_wiki(name):\n",
        "    try:\n",
        "        wikipedia = MediaWiki(user_agent = 'pyMediaWiki-User-Agent-String1')\n",
        "        search_res = wikipedia.search(name)\n",
        "        result = search_res[0]\n",
        "        page = wikipedia.page(result)\n",
        "        url = page.url\n",
        "        \n",
        "        html = urllib.request.urlopen(url, context=ctx).read()\n",
        "        soup = BeautifulSoup(html, 'lxml')\n",
        "        \n",
        "        my_table = soup.find('table', {'class':'infobox vcard'})\n",
        "        res = re.findall(r'Political party</th>.+?\\\">(.+?)</a></td></tr><tr><th scope?', str(my_table))\n",
        "        likely_res = res[0]\n",
        "        if len(likely_res) > 10:\n",
        "            text = likely_res.split(\"</a>\")\n",
        "            likely_res = text[0]\n",
        "        return likely_res\n",
        "    except:\n",
        "        return np.nan"
      ],
      "execution_count": 0,
      "outputs": []
    },
    {
      "cell_type": "code",
      "metadata": {
        "id": "inj9HMMsardQ",
        "colab_type": "code",
        "colab": {},
        "outputId": "e8c35a81-81ae-4a09-ad4d-6c2f02b8a585"
      },
      "source": [
        "#checking if it works\n",
        "polit_affil_through_wiki(\"Jerry Seinfeld\")"
      ],
      "execution_count": 0,
      "outputs": [
        {
          "output_type": "execute_result",
          "data": {
            "text/plain": [
              "nan"
            ]
          },
          "metadata": {
            "tags": []
          },
          "execution_count": 45
        }
      ]
    },
    {
      "cell_type": "code",
      "metadata": {
        "scrolled": true,
        "id": "l6FLls1qardW",
        "colab_type": "code",
        "colab": {}
      },
      "source": [
        "df[\"likely_affiliation\"] = df.cleaned_names.apply(polit_affil_through_wiki)"
      ],
      "execution_count": 0,
      "outputs": []
    },
    {
      "cell_type": "code",
      "metadata": {
        "id": "M2vdXyRyardi",
        "colab_type": "code",
        "colab": {},
        "outputId": "44b3bdb8-e81e-4ccf-c582-aec0d5f042d5"
      },
      "source": [
        "#checking how many times scraping failed\n",
        "df.info()"
      ],
      "execution_count": 0,
      "outputs": [
        {
          "output_type": "stream",
          "text": [
            "<class 'pandas.core.frame.DataFrame'>\n",
            "RangeIndex: 548 entries, 0 to 547\n",
            "Data columns (total 10 columns):\n",
            "id                    548 non-null int64\n",
            "screen_name           548 non-null object\n",
            "name                  548 non-null object\n",
            "description           539 non-null object\n",
            "followers             548 non-null int64\n",
            "follows               548 non-null int64\n",
            "joined                545 non-null object\n",
            "tweet_count           545 non-null float64\n",
            "cleaned_names         548 non-null object\n",
            "likely_affiliation    472 non-null object\n",
            "dtypes: float64(1), int64(3), object(6)\n",
            "memory usage: 42.9+ KB\n"
          ],
          "name": "stdout"
        }
      ]
    },
    {
      "cell_type": "code",
      "metadata": {
        "id": "ucaEaonDardm",
        "colab_type": "code",
        "colab": {}
      },
      "source": [
        "noaffil = df[df.likely_affiliation.isna()]"
      ],
      "execution_count": 0,
      "outputs": []
    },
    {
      "cell_type": "code",
      "metadata": {
        "id": "5DSkh0XWardv",
        "colab_type": "code",
        "colab": {},
        "outputId": "1fd43419-5d38-41ce-cb6f-2b0d2dbeb00b"
      },
      "source": [
        "noaffil[noaffil.name.str.contains(\"U.S.Rep Gonzalez\")]"
      ],
      "execution_count": 0,
      "outputs": [
        {
          "output_type": "execute_result",
          "data": {
            "text/html": [
              "<div>\n",
              "<style scoped>\n",
              "    .dataframe tbody tr th:only-of-type {\n",
              "        vertical-align: middle;\n",
              "    }\n",
              "\n",
              "    .dataframe tbody tr th {\n",
              "        vertical-align: top;\n",
              "    }\n",
              "\n",
              "    .dataframe thead th {\n",
              "        text-align: right;\n",
              "    }\n",
              "</style>\n",
              "<table border=\"1\" class=\"dataframe\">\n",
              "  <thead>\n",
              "    <tr style=\"text-align: right;\">\n",
              "      <th></th>\n",
              "      <th>id</th>\n",
              "      <th>screen_name</th>\n",
              "      <th>name</th>\n",
              "      <th>description</th>\n",
              "      <th>followers</th>\n",
              "      <th>follows</th>\n",
              "      <th>joined</th>\n",
              "      <th>tweet_count</th>\n",
              "      <th>cleaned_names</th>\n",
              "      <th>likely_affiliation</th>\n",
              "    </tr>\n",
              "  </thead>\n",
              "  <tbody>\n",
              "    <tr>\n",
              "      <th>450</th>\n",
              "      <td>818536152588238849</td>\n",
              "      <td>RepGonzalez</td>\n",
              "      <td>U.S.Rep Gonzalez</td>\n",
              "      <td>Representing the 15th District of Texas in US Congress, public servant, man of the people, lawyer, friend, business owner. #TX15GettingItRight</td>\n",
              "      <td>437</td>\n",
              "      <td>10</td>\n",
              "      <td>2017-01-09 19:13:21</td>\n",
              "      <td>16.0</td>\n",
              "      <td>Gonzalez</td>\n",
              "      <td>NaN</td>\n",
              "    </tr>\n",
              "  </tbody>\n",
              "</table>\n",
              "</div>"
            ],
            "text/plain": [
              "                     id  screen_name              name  \\\n",
              "450  818536152588238849  RepGonzalez  U.S.Rep Gonzalez   \n",
              "\n",
              "                                                                                                                                        description  \\\n",
              "450  Representing the 15th District of Texas in US Congress, public servant, man of the people, lawyer, friend, business owner. #TX15GettingItRight   \n",
              "\n",
              "     followers  follows               joined  tweet_count cleaned_names  \\\n",
              "450  437        10       2017-01-09 19:13:21  16.0         Gonzalez       \n",
              "\n",
              "    likely_affiliation  \n",
              "450  NaN                "
            ]
          },
          "metadata": {
            "tags": []
          },
          "execution_count": 81
        }
      ]
    },
    {
      "cell_type": "code",
      "metadata": {
        "id": "NHRWQnPkard3",
        "colab_type": "code",
        "colab": {}
      },
      "source": [
        "#these names have to be inserted manually\n",
        "list_for_input = noaffil.name"
      ],
      "execution_count": 0,
      "outputs": []
    },
    {
      "cell_type": "code",
      "metadata": {
        "id": "VTpvxrj7ard-",
        "colab_type": "code",
        "colab": {}
      },
      "source": [
        "names_to_aff = {}"
      ],
      "execution_count": 0,
      "outputs": []
    },
    {
      "cell_type": "code",
      "metadata": {
        "scrolled": true,
        "id": "-Z6gnouHareD",
        "colab_type": "code",
        "colab": {}
      },
      "source": [
        "for item in list_for_input:\n",
        "    inputres = input(item)\n",
        "    if inputres == \"r\":\n",
        "        party = \"Republican\"\n",
        "    elif inputres == \"d\":\n",
        "        party = \"Democratic\"\n",
        "    else:\n",
        "        party = \"Independent\"\n",
        "    names_to_aff[item] = party"
      ],
      "execution_count": 0,
      "outputs": []
    },
    {
      "cell_type": "code",
      "metadata": {
        "id": "atY-NMB8areG",
        "colab_type": "code",
        "colab": {}
      },
      "source": [
        "names_to_aff"
      ],
      "execution_count": 0,
      "outputs": []
    },
    {
      "cell_type": "code",
      "metadata": {
        "id": "99YSCVa8areK",
        "colab_type": "code",
        "colab": {}
      },
      "source": [
        "names_to_aff['U.S.Rep Gonzalez'] = 'Democratic'"
      ],
      "execution_count": 0,
      "outputs": []
    },
    {
      "cell_type": "code",
      "metadata": {
        "colab_type": "code",
        "id": "FgIHX2F6n0dx",
        "colab": {}
      },
      "source": [
        "#mapping the created dictionary to the existing dataframe\n",
        "df_cp = df.copy(deep=True)"
      ],
      "execution_count": 0,
      "outputs": []
    },
    {
      "cell_type": "code",
      "metadata": {
        "scrolled": false,
        "colab_type": "code",
        "id": "EoZzi1qqn0CI",
        "colab": {}
      },
      "source": [
        "df_cp.set_index(df_cp.name, inplace = True)"
      ],
      "execution_count": 0,
      "outputs": []
    },
    {
      "cell_type": "code",
      "metadata": {
        "id": "gcZ_zHmMareW",
        "colab_type": "code",
        "colab": {}
      },
      "source": [
        "not_na = df_cp.loc[~df_cp.likely_affiliation.isna()]"
      ],
      "execution_count": 0,
      "outputs": []
    },
    {
      "cell_type": "code",
      "metadata": {
        "id": "lhR7XpD5areZ",
        "colab_type": "code",
        "colab": {}
      },
      "source": [
        "aff_dict = not_na.likely_affiliation.to_dict()"
      ],
      "execution_count": 0,
      "outputs": []
    },
    {
      "cell_type": "code",
      "metadata": {
        "id": "irh1ounrarec",
        "colab_type": "code",
        "colab": {}
      },
      "source": [
        "aff_dict.update(names_to_aff)"
      ],
      "execution_count": 0,
      "outputs": []
    },
    {
      "cell_type": "code",
      "metadata": {
        "id": "tcQwD_5earef",
        "colab_type": "code",
        "colab": {},
        "outputId": "ee7d989c-7199-4eac-a2e4-f048f3769621"
      },
      "source": [
        "len(aff_dict.keys()) == df_cp.shape[0]"
      ],
      "execution_count": 0,
      "outputs": [
        {
          "output_type": "execute_result",
          "data": {
            "text/plain": [
              "True"
            ]
          },
          "metadata": {
            "tags": []
          },
          "execution_count": 105
        }
      ]
    },
    {
      "cell_type": "code",
      "metadata": {
        "id": "yBCd5zlgarej",
        "colab_type": "code",
        "colab": {}
      },
      "source": [
        "df_cp['probable_affiliation'] = df_cp.index.map(aff_dict)"
      ],
      "execution_count": 0,
      "outputs": []
    },
    {
      "cell_type": "code",
      "metadata": {
        "id": "kxzHr8G6arem",
        "colab_type": "code",
        "colab": {}
      },
      "source": [
        "df_cp = df_cp.drop('likely_affiliation', axis = 1)"
      ],
      "execution_count": 0,
      "outputs": []
    },
    {
      "cell_type": "code",
      "metadata": {
        "id": "qdUu89C0areq",
        "colab_type": "code",
        "colab": {},
        "outputId": "a103d7b5-e2e0-4cb8-832e-00c637a479bf"
      },
      "source": [
        "#checking the results\n",
        "df_cp.probable_affiliation.value_counts()"
      ],
      "execution_count": 0,
      "outputs": [
        {
          "output_type": "execute_result",
          "data": {
            "text/plain": [
              "Republican     302\n",
              "Democratic     244\n",
              "Independent    1  \n",
              "Federalist     1  \n",
              "Name: probable_affiliation, dtype: int64"
            ]
          },
          "metadata": {
            "tags": []
          },
          "execution_count": 116
        }
      ]
    },
    {
      "cell_type": "code",
      "metadata": {
        "id": "b23WTWk1aret",
        "colab_type": "code",
        "colab": {},
        "outputId": "91be3729-c431-40dc-81c1-877b97f9e26f"
      },
      "source": [
        "#it appears we got the wrong Daniel Webster\n",
        "df_cp.loc[df_cp.probable_affiliation==\"Federalist\"]"
      ],
      "execution_count": 0,
      "outputs": [
        {
          "output_type": "execute_result",
          "data": {
            "text/html": [
              "<div>\n",
              "<style scoped>\n",
              "    .dataframe tbody tr th:only-of-type {\n",
              "        vertical-align: middle;\n",
              "    }\n",
              "\n",
              "    .dataframe tbody tr th {\n",
              "        vertical-align: top;\n",
              "    }\n",
              "\n",
              "    .dataframe thead th {\n",
              "        text-align: right;\n",
              "    }\n",
              "</style>\n",
              "<table border=\"1\" class=\"dataframe\">\n",
              "  <thead>\n",
              "    <tr style=\"text-align: right;\">\n",
              "      <th></th>\n",
              "      <th>id</th>\n",
              "      <th>screen_name</th>\n",
              "      <th>name</th>\n",
              "      <th>description</th>\n",
              "      <th>followers</th>\n",
              "      <th>follows</th>\n",
              "      <th>joined</th>\n",
              "      <th>tweet_count</th>\n",
              "      <th>cleaned_names</th>\n",
              "      <th>probable_affiliation</th>\n",
              "    </tr>\n",
              "    <tr>\n",
              "      <th>name</th>\n",
              "      <th></th>\n",
              "      <th></th>\n",
              "      <th></th>\n",
              "      <th></th>\n",
              "      <th></th>\n",
              "      <th></th>\n",
              "      <th></th>\n",
              "      <th></th>\n",
              "      <th></th>\n",
              "      <th></th>\n",
              "    </tr>\n",
              "  </thead>\n",
              "  <tbody>\n",
              "    <tr>\n",
              "      <th>Daniel Webster</th>\n",
              "      <td>281540744</td>\n",
              "      <td>RepWebster</td>\n",
              "      <td>Daniel Webster</td>\n",
              "      <td>A family man and small-business owner who is dedicated to serving the citizens of Central Florida with honor and integrity.</td>\n",
              "      <td>14057</td>\n",
              "      <td>267</td>\n",
              "      <td>2011-04-13 13:47:05</td>\n",
              "      <td>2939.0</td>\n",
              "      <td>Daniel Webster</td>\n",
              "      <td>Federalist</td>\n",
              "    </tr>\n",
              "  </tbody>\n",
              "</table>\n",
              "</div>"
            ],
            "text/plain": [
              "                       id screen_name            name  \\\n",
              "name                                                    \n",
              "Daniel Webster  281540744  RepWebster  Daniel Webster   \n",
              "\n",
              "                                                                                                                                description  \\\n",
              "name                                                                                                                                          \n",
              "Daniel Webster  A family man and small-business owner who is dedicated to serving the citizens of Central Florida with honor and integrity.   \n",
              "\n",
              "                followers  follows               joined  tweet_count  \\\n",
              "name                                                                   \n",
              "Daniel Webster  14057      267      2011-04-13 13:47:05  2939.0        \n",
              "\n",
              "                 cleaned_names probable_affiliation  \n",
              "name                                                 \n",
              "Daniel Webster  Daniel Webster  Federalist           "
            ]
          },
          "metadata": {
            "tags": []
          },
          "execution_count": 117
        }
      ]
    },
    {
      "cell_type": "code",
      "metadata": {
        "id": "PTkT6eNAarey",
        "colab_type": "code",
        "colab": {}
      },
      "source": [
        "df_cp.loc[\"Daniel Webster\", \"probable_affiliation\"] = \"Republican\""
      ],
      "execution_count": 0,
      "outputs": []
    },
    {
      "cell_type": "code",
      "metadata": {
        "id": "_EiGx1TEare2",
        "colab_type": "code",
        "colab": {},
        "outputId": "7ffca41e-47a4-4332-f367-7c57d3c580da"
      },
      "source": [
        "df_cp.probable_affiliation.value_counts()"
      ],
      "execution_count": 0,
      "outputs": [
        {
          "output_type": "execute_result",
          "data": {
            "text/plain": [
              "Republican     303\n",
              "Democratic     244\n",
              "Independent    1  \n",
              "Name: probable_affiliation, dtype: int64"
            ]
          },
          "metadata": {
            "tags": []
          },
          "execution_count": 119
        }
      ]
    },
    {
      "cell_type": "code",
      "metadata": {
        "id": "w_SIDhSMarfA",
        "colab_type": "code",
        "colab": {}
      },
      "source": [
        "#saving the results\n",
        "df_cp.to_csv('with_affiliation.csv')"
      ],
      "execution_count": 0,
      "outputs": []
    },
    {
      "cell_type": "code",
      "metadata": {
        "id": "6hpbfYLrarfD",
        "colab_type": "code",
        "colab": {}
      },
      "source": [
        "test = pd.read_csv(\"with_affiliation.csv\", index_col = 0)"
      ],
      "execution_count": 0,
      "outputs": []
    },
    {
      "cell_type": "code",
      "metadata": {
        "id": "OoYxGTRwarfE",
        "colab_type": "code",
        "colab": {
          "base_uri": "https://localhost:8080/",
          "height": 553
        },
        "outputId": "1dfafe1e-09cd-4fbe-9186-56cc399b55b0"
      },
      "source": [
        "test.head()"
      ],
      "execution_count": 21,
      "outputs": [
        {
          "output_type": "execute_result",
          "data": {
            "text/html": [
              "<div>\n",
              "<style scoped>\n",
              "    .dataframe tbody tr th:only-of-type {\n",
              "        vertical-align: middle;\n",
              "    }\n",
              "\n",
              "    .dataframe tbody tr th {\n",
              "        vertical-align: top;\n",
              "    }\n",
              "\n",
              "    .dataframe thead th {\n",
              "        text-align: right;\n",
              "    }\n",
              "</style>\n",
              "<table border=\"1\" class=\"dataframe\">\n",
              "  <thead>\n",
              "    <tr style=\"text-align: right;\">\n",
              "      <th></th>\n",
              "      <th>id</th>\n",
              "      <th>screen_name</th>\n",
              "      <th>description</th>\n",
              "      <th>followers</th>\n",
              "      <th>follows</th>\n",
              "      <th>joined</th>\n",
              "      <th>tweet_count</th>\n",
              "      <th>cleaned_names</th>\n",
              "      <th>probable_affiliation</th>\n",
              "    </tr>\n",
              "    <tr>\n",
              "      <th>name</th>\n",
              "      <th></th>\n",
              "      <th></th>\n",
              "      <th></th>\n",
              "      <th></th>\n",
              "      <th></th>\n",
              "      <th></th>\n",
              "      <th></th>\n",
              "      <th></th>\n",
              "      <th></th>\n",
              "    </tr>\n",
              "  </thead>\n",
              "  <tbody>\n",
              "    <tr>\n",
              "      <th>Elijah E. Cummings</th>\n",
              "      <td>787373558</td>\n",
              "      <td>RepCummings</td>\n",
              "      <td>U.S. Representative from Maryland's 7th Distri...</td>\n",
              "      <td>104521</td>\n",
              "      <td>1611</td>\n",
              "      <td>2012-08-28 16:37:01</td>\n",
              "      <td>3231.0</td>\n",
              "      <td>Elijah E. Cummings</td>\n",
              "      <td>Democratic</td>\n",
              "    </tr>\n",
              "    <tr>\n",
              "      <th>Rep. Val Demings</th>\n",
              "      <td>798973032362606600</td>\n",
              "      <td>RepValDemings</td>\n",
              "      <td>U.S. Representative Florida's 10th Congression...</td>\n",
              "      <td>3498</td>\n",
              "      <td>180</td>\n",
              "      <td>2016-11-16 19:36:29</td>\n",
              "      <td>689.0</td>\n",
              "      <td>Val Demings</td>\n",
              "      <td>Democratic</td>\n",
              "    </tr>\n",
              "    <tr>\n",
              "      <th>Rep. Randy Hultgren</th>\n",
              "      <td>237814920</td>\n",
              "      <td>RepHultgren</td>\n",
              "      <td>Member of Congress proudly representing IL-14....</td>\n",
              "      <td>14074</td>\n",
              "      <td>1859</td>\n",
              "      <td>2011-01-13 18:03:42</td>\n",
              "      <td>3226.0</td>\n",
              "      <td>Randy Hultgren</td>\n",
              "      <td>Republican</td>\n",
              "    </tr>\n",
              "    <tr>\n",
              "      <th>Rep. Tulsi Gabbard</th>\n",
              "      <td>1064206014</td>\n",
              "      <td>TulsiPress</td>\n",
              "      <td>Aloha - Official account of Rep Tulsi Gabbard ...</td>\n",
              "      <td>72270</td>\n",
              "      <td>1125</td>\n",
              "      <td>2013-01-05 22:57:50</td>\n",
              "      <td>2593.0</td>\n",
              "      <td>Tulsi Gabbard</td>\n",
              "      <td>Democratic</td>\n",
              "    </tr>\n",
              "    <tr>\n",
              "      <th>Kirsten Gillibrand</th>\n",
              "      <td>72198806</td>\n",
              "      <td>SenGillibrand</td>\n",
              "      <td>Theo and Henry's mom, U.S. Senator from New Yo...</td>\n",
              "      <td>396587</td>\n",
              "      <td>488</td>\n",
              "      <td>2009-09-07 03:53:24</td>\n",
              "      <td>3210.0</td>\n",
              "      <td>Kirsten Gillibrand</td>\n",
              "      <td>Democratic</td>\n",
              "    </tr>\n",
              "  </tbody>\n",
              "</table>\n",
              "</div>"
            ],
            "text/plain": [
              "                                     id  ... probable_affiliation\n",
              "name                                     ...                     \n",
              "Elijah E. Cummings            787373558  ...           Democratic\n",
              "Rep. Val Demings     798973032362606600  ...           Democratic\n",
              "Rep. Randy Hultgren           237814920  ...           Republican\n",
              "Rep. Tulsi Gabbard           1064206014  ...           Democratic\n",
              "Kirsten Gillibrand             72198806  ...           Democratic\n",
              "\n",
              "[5 rows x 9 columns]"
            ]
          },
          "metadata": {
            "tags": []
          },
          "execution_count": 21
        }
      ]
    },
    {
      "cell_type": "markdown",
      "metadata": {
        "id": "ZADueuCXpHSz",
        "colab_type": "text"
      },
      "source": [
        "## Visual exploration of the dataset"
      ]
    },
    {
      "cell_type": "code",
      "metadata": {
        "colab_type": "code",
        "id": "aK1gvL_5pFew",
        "colab": {}
      },
      "source": [
        "import matplotlib.pyplot as plt\n",
        "%matplotlib inline"
      ],
      "execution_count": 0,
      "outputs": []
    },
    {
      "cell_type": "code",
      "metadata": {
        "id": "vnSFd1J3p5l5",
        "colab_type": "code",
        "colab": {}
      },
      "source": [
        "df = pd.read_csv(\"with_affiliation.csv\")"
      ],
      "execution_count": 0,
      "outputs": []
    },
    {
      "cell_type": "code",
      "metadata": {
        "colab_type": "code",
        "outputId": "fed8bed6-bbeb-4af3-f9a1-319db78a83ee",
        "id": "dkwKrYoDpCrP",
        "colab": {
          "base_uri": "https://localhost:8080/",
          "height": 91
        }
      },
      "source": [
        "#checking the data\n",
        "df.probable_affiliation.value_counts()"
      ],
      "execution_count": 25,
      "outputs": [
        {
          "output_type": "execute_result",
          "data": {
            "text/plain": [
              "Republican     303\n",
              "Democratic     244\n",
              "Independent      1\n",
              "Name: probable_affiliation, dtype: int64"
            ]
          },
          "metadata": {
            "tags": []
          },
          "execution_count": 25
        }
      ]
    },
    {
      "cell_type": "code",
      "metadata": {
        "colab_type": "code",
        "id": "3Cj237drpB9V",
        "colab": {}
      },
      "source": [
        "#dropping the user whose affiliation is not Republican or Democratic \n",
        "df = df.loc[df.probable_affiliation != \"Independent\"]"
      ],
      "execution_count": 0,
      "outputs": []
    },
    {
      "cell_type": "code",
      "metadata": {
        "colab_type": "code",
        "outputId": "c5b63cab-8d18-487a-c2d1-aea4fb9a999c",
        "id": "KO3vRk5rpA6H",
        "colab": {
          "base_uri": "https://localhost:8080/",
          "height": 73
        }
      },
      "source": [
        "df.probable_affiliation.value_counts()"
      ],
      "execution_count": 27,
      "outputs": [
        {
          "output_type": "execute_result",
          "data": {
            "text/plain": [
              "Republican    303\n",
              "Democratic    244\n",
              "Name: probable_affiliation, dtype: int64"
            ]
          },
          "metadata": {
            "tags": []
          },
          "execution_count": 27
        }
      ]
    },
    {
      "cell_type": "code",
      "metadata": {
        "colab_type": "code",
        "id": "cveGPYmDpAb0",
        "colab": {}
      },
      "source": [
        "df[\"probable_affiliation\"] = df.probable_affiliation.map({\"Republican\":1, \"Democratic\":0})"
      ],
      "execution_count": 0,
      "outputs": []
    },
    {
      "cell_type": "code",
      "metadata": {
        "id": "aHFS2xdsarfd",
        "colab_type": "code",
        "colab": {}
      },
      "source": [
        "pd.set_option(\"display.precision\", 2)"
      ],
      "execution_count": 0,
      "outputs": []
    },
    {
      "cell_type": "markdown",
      "metadata": {
        "id": "Kwz9zbAnarfi",
        "colab_type": "text"
      },
      "source": [
        "### Exploring follower count\n"
      ]
    },
    {
      "cell_type": "code",
      "metadata": {
        "id": "re20jKrearfi",
        "colab_type": "code",
        "colab": {
          "base_uri": "https://localhost:8080/",
          "height": 165
        },
        "outputId": "d95a3f3f-af0e-4206-d3c7-cd590d4099c7"
      },
      "source": [
        "#getting some descriptive statistics\n",
        "print(\"Average followers: \", df.followers.mean())\n",
        "print(\"Max followers:\", df.followers.max())\n",
        "print(\"User with max followers\", df.loc[df.followers == df.followers.max(), \"name\"])\n",
        "print(\"Min followers:\", df.followers.min())\n",
        "print(\"User with min followers\", df.loc[df.followers == df.followers.min(), \"name\"])\n",
        "print(\"Standard deviation\", df.followers.std())"
      ],
      "execution_count": 30,
      "outputs": [
        {
          "output_type": "stream",
          "text": [
            "Average followers:  163657.02925045704\n",
            "Max followers: 31712585\n",
            "User with max followers 478    Donald J. Trump\n",
            "Name: name, dtype: object\n",
            "Min followers: 4\n",
            "User with min followers 141    Jasmine Coleman\n",
            "Name: name, dtype: object\n",
            "Standard deviation 1598810.5860084195\n"
          ],
          "name": "stdout"
        }
      ]
    },
    {
      "cell_type": "markdown",
      "metadata": {
        "id": "GjitQKJ5arfm",
        "colab_type": "text"
      },
      "source": [
        "### Exploring follower count by party"
      ]
    },
    {
      "cell_type": "code",
      "metadata": {
        "id": "qEh-QB6Sarfm",
        "colab_type": "code",
        "colab": {
          "base_uri": "https://localhost:8080/",
          "height": 54
        },
        "outputId": "a015f276-1a0e-440c-9bcd-bbafc701b0a8"
      },
      "source": [
        "df_rep = df.loc[df.probable_affiliation == 1]\n",
        "print(df_rep.shape[0])\n",
        "df_dem = df.loc[df.probable_affiliation ==0]\n",
        "print(df_dem.shape[0])"
      ],
      "execution_count": 31,
      "outputs": [
        {
          "output_type": "stream",
          "text": [
            "303\n",
            "244\n"
          ],
          "name": "stdout"
        }
      ]
    },
    {
      "cell_type": "code",
      "metadata": {
        "id": "0US7bg9larfp",
        "colab_type": "code",
        "colab": {
          "base_uri": "https://localhost:8080/",
          "height": 165
        },
        "outputId": "6e714700-f299-4271-919b-92a49f04c5f6"
      },
      "source": [
        "#Republicans\n",
        "print(\"Average followers: \", df_rep.followers.mean())\n",
        "print(\"Max followers:\", df_rep.followers.max())\n",
        "print(\"User with max followers\", df_rep.loc[df_rep.followers == df_rep.followers.max(), \"name\"])\n",
        "print(\"Min followers:\", df_rep.followers.min())\n",
        "print(\"User with min followers\", df_rep.loc[df_rep.followers == df_rep.followers.min(), \"name\"])\n",
        "print(\"Standard deviation\", df_rep.followers.std())"
      ],
      "execution_count": 32,
      "outputs": [
        {
          "output_type": "stream",
          "text": [
            "Average followers:  217756.65346534652\n",
            "Max followers: 31712585\n",
            "User with max followers 478    Donald J. Trump\n",
            "Name: name, dtype: object\n",
            "Min followers: 4\n",
            "User with min followers 141    Jasmine Coleman\n",
            "Name: name, dtype: object\n",
            "Standard deviation 2114475.9054823513\n"
          ],
          "name": "stdout"
        }
      ]
    },
    {
      "cell_type": "code",
      "metadata": {
        "colab_type": "code",
        "outputId": "104c97c5-a70c-48e9-a993-d2ef6d5bd25d",
        "id": "FlsYz0rTqLwo",
        "colab": {
          "base_uri": "https://localhost:8080/",
          "height": 165
        }
      },
      "source": [
        "#democrats\n",
        "print(\"Average followers: \", df_dem.followers.mean())\n",
        "print(\"Max followers:\", df_dem.followers.max())\n",
        "print(\"User with max followers\", df_dem.loc[df_dem.followers == df_dem.followers.max(), \"name\"])\n",
        "print(\"Min followers:\", df_dem.followers.min())\n",
        "print(\"User with min followers\", df_dem.loc[df_dem.followers == df_dem.followers.min(), \"name\"])\n",
        "print(\"Standard deviation\", df_dem.followers.std())"
      ],
      "execution_count": 38,
      "outputs": [
        {
          "output_type": "stream",
          "text": [
            "Average followers:  96475.93852459016\n",
            "Max followers: 5072538\n",
            "User with max followers 407    Bernie Sanders\n",
            "Name: name, dtype: object\n",
            "Min followers: 41\n",
            "User with min followers 496    Yvette Clarke\n",
            "Name: name, dtype: object\n",
            "Standard deviation 422855.5147283347\n"
          ],
          "name": "stdout"
        }
      ]
    },
    {
      "cell_type": "code",
      "metadata": {
        "scrolled": true,
        "id": "96bvdd71argI",
        "colab_type": "code",
        "colab": {
          "base_uri": "https://localhost:8080/",
          "height": 441
        },
        "outputId": "36b87dc8-7b63-45d4-e51a-8acf663d806b"
      },
      "source": [
        "#plotting the follower distribution by user\n",
        "fig, axs = plt.subplots(2,1, figsize = (12,6))\n",
        "fig = df_rep.followers.hist(color = \"r\", range = (0, 36000000), ax = axs[0])\n",
        "axs[0].set_title(\"Followers(Rep)\")\n",
        "fig = df_dem.followers.hist(color = \"b\", range = (0, 36000000), ax = axs[1])\n",
        "axs[1].set_title(\"Followers(Dem)\")\n",
        "plt.tight_layout()"
      ],
      "execution_count": 39,
      "outputs": [
        {
          "output_type": "display_data",
          "data": {
            "image/png": "[encoded data removed]",
            "text/plain": [
              "<Figure size 864x432 with 2 Axes>"
            ]
          },
          "metadata": {
            "tags": []
          }
        }
      ]
    },
    {
      "cell_type": "code",
      "metadata": {
        "id": "fqtH80xVargL",
        "colab_type": "code",
        "colab": {}
      },
      "source": [
        "#removing outliers\n",
        "dem_followers_no_outl = df_dem.loc[df_dem.followers.between(df_dem.followers.quantile(.15), \n",
        "                                                            df_dem.followers.quantile(.85)), \n",
        "                                                            \"followers\"]"
      ],
      "execution_count": 0,
      "outputs": []
    },
    {
      "cell_type": "code",
      "metadata": {
        "id": "_1ECWpnvargN",
        "colab_type": "code",
        "colab": {}
      },
      "source": [
        "rep_followers_no_outl = df_rep.loc[df_rep.followers.between(df_rep.followers.quantile(.15), \n",
        "                                                            df_rep.followers.quantile(.85)),\n",
        "                                                            \"followers\"]"
      ],
      "execution_count": 0,
      "outputs": []
    },
    {
      "cell_type": "code",
      "metadata": {
        "id": "nCgVSEZHargP",
        "colab_type": "code",
        "colab": {
          "base_uri": "https://localhost:8080/",
          "height": 441
        },
        "outputId": "2564b749-78ae-45ba-8db9-b3eab996ab7a"
      },
      "source": [
        "fig, axs = plt.subplots(2,1, figsize = (12,6))\n",
        "fig = rep_followers_no_outl.hist(color = \"r\", ax = axs[0])\n",
        "axs[0].set_title(\"Followers(Rep)\")\n",
        "fig = dem_followers_no_outl.hist(color = \"b\", ax = axs[1])\n",
        "axs[1].set_title(\"Followers(Dem)\")\n",
        "plt.tight_layout()"
      ],
      "execution_count": 42,
      "outputs": [
        {
          "output_type": "display_data",
          "data": {
            "image/png": "[encoded data removed]",
            "text/plain": [
              "<Figure size 864x432 with 2 Axes>"
            ]
          },
          "metadata": {
            "tags": []
          }
        }
      ]
    },
    {
      "cell_type": "markdown",
      "metadata": {
        "id": "ndNn663Iq1wu",
        "colab_type": "text"
      },
      "source": [
        "_Observation_: As distributions of followers for both parties are right-scewed due to some outliers with unusually high amount of followers, this might not be the most helpful metric to look at."
      ]
    },
    {
      "cell_type": "markdown",
      "metadata": {
        "id": "7JoQ9cLearh2",
        "colab_type": "text"
      },
      "source": [
        "## EXPLORING TWEETS"
      ]
    },
    {
      "cell_type": "markdown",
      "metadata": {
        "id": "W-XZ4Ww9vbsp",
        "colab_type": "text"
      },
      "source": [
        "We now look at differences at the number of tweets created."
      ]
    },
    {
      "cell_type": "code",
      "metadata": {
        "id": "YKpjwBHXarh3",
        "colab_type": "code",
        "colab": {}
      },
      "source": [
        "#reading the tweets table\n",
        "df = pd.read_csv(\"with_dt_aff.csv\", names = [\"id\", \"created_at\", \"user_id\", \"probable_affiliation\"])"
      ],
      "execution_count": 0,
      "outputs": []
    },
    {
      "cell_type": "code",
      "metadata": {
        "id": "Z8HRXEkearh4",
        "colab_type": "code",
        "colab": {
          "base_uri": "https://localhost:8080/",
          "height": 206
        },
        "outputId": "6aeb8fdf-e52e-45bc-b82f-e4181d43c7a9"
      },
      "source": [
        "df.head()"
      ],
      "execution_count": 66,
      "outputs": [
        {
          "output_type": "execute_result",
          "data": {
            "text/html": [
              "<div>\n",
              "<style scoped>\n",
              "    .dataframe tbody tr th:only-of-type {\n",
              "        vertical-align: middle;\n",
              "    }\n",
              "\n",
              "    .dataframe tbody tr th {\n",
              "        vertical-align: top;\n",
              "    }\n",
              "\n",
              "    .dataframe thead th {\n",
              "        text-align: right;\n",
              "    }\n",
              "</style>\n",
              "<table border=\"1\" class=\"dataframe\">\n",
              "  <thead>\n",
              "    <tr style=\"text-align: right;\">\n",
              "      <th></th>\n",
              "      <th>id</th>\n",
              "      <th>created_at</th>\n",
              "      <th>user_id</th>\n",
              "      <th>probable_affiliation</th>\n",
              "    </tr>\n",
              "  </thead>\n",
              "  <tbody>\n",
              "    <tr>\n",
              "      <th>0</th>\n",
              "      <td>877418565</td>\n",
              "      <td>2008-08-04 17:28:51</td>\n",
              "      <td>5558312</td>\n",
              "      <td>1.0</td>\n",
              "    </tr>\n",
              "    <tr>\n",
              "      <th>1</th>\n",
              "      <td>879618172</td>\n",
              "      <td>2008-08-06 19:04:45</td>\n",
              "      <td>5558312</td>\n",
              "      <td>1.0</td>\n",
              "    </tr>\n",
              "    <tr>\n",
              "      <th>2</th>\n",
              "      <td>879695803</td>\n",
              "      <td>2008-08-06 20:35:36</td>\n",
              "      <td>5558312</td>\n",
              "      <td>1.0</td>\n",
              "    </tr>\n",
              "    <tr>\n",
              "      <th>3</th>\n",
              "      <td>880393665</td>\n",
              "      <td>2008-08-07 13:52:52</td>\n",
              "      <td>5558312</td>\n",
              "      <td>1.0</td>\n",
              "    </tr>\n",
              "    <tr>\n",
              "      <th>4</th>\n",
              "      <td>880474266</td>\n",
              "      <td>2008-08-07 15:12:05</td>\n",
              "      <td>5558312</td>\n",
              "      <td>1.0</td>\n",
              "    </tr>\n",
              "  </tbody>\n",
              "</table>\n",
              "</div>"
            ],
            "text/plain": [
              "          id           created_at  user_id  probable_affiliation\n",
              "0  877418565  2008-08-04 17:28:51  5558312                   1.0\n",
              "1  879618172  2008-08-06 19:04:45  5558312                   1.0\n",
              "2  879695803  2008-08-06 20:35:36  5558312                   1.0\n",
              "3  880393665  2008-08-07 13:52:52  5558312                   1.0\n",
              "4  880474266  2008-08-07 15:12:05  5558312                   1.0"
            ]
          },
          "metadata": {
            "tags": []
          },
          "execution_count": 66
        }
      ]
    },
    {
      "cell_type": "code",
      "metadata": {
        "id": "_6zjIplVarh6",
        "colab_type": "code",
        "colab": {}
      },
      "source": [
        "#separating republican and democratic tweets"
      ],
      "execution_count": 0,
      "outputs": []
    },
    {
      "cell_type": "code",
      "metadata": {
        "id": "YP4ek0c4arh7",
        "colab_type": "code",
        "colab": {}
      },
      "source": [
        "rep_tweets = df.loc[df.probable_affiliation == 1].copy()"
      ],
      "execution_count": 0,
      "outputs": []
    },
    {
      "cell_type": "code",
      "metadata": {
        "id": "kEYK1Oi5arh_",
        "colab_type": "code",
        "colab": {}
      },
      "source": [
        "dem_tweets = df.loc[df.probable_affiliation == 0].copy()"
      ],
      "execution_count": 0,
      "outputs": []
    },
    {
      "cell_type": "code",
      "metadata": {
        "id": "UCqlHSfjariK",
        "colab_type": "code",
        "colab": {
          "base_uri": "https://localhost:8080/",
          "height": 362
        },
        "outputId": "b2d24dd2-fa8c-48c5-e084-d2a2b7156e95"
      },
      "source": [
        "plt.bar([\"Democrats\", \"Republicans\"], df.groupby(\"probable_affiliation\").count().id, color=(\"blue\", \"r\"))\n",
        "plt.title(\"Number of tweets by party\")\n",
        "plt.show()"
      ],
      "execution_count": 70,
      "outputs": [
        {
          "output_type": "display_data",
          "data": {
            "image/png": "[encoded data removed]",
            "text/plain": [
              "<Figure size 576x396 with 1 Axes>"
            ]
          },
          "metadata": {
            "tags": []
          }
        }
      ]
    },
    {
      "cell_type": "markdown",
      "metadata": {
        "id": "R4AjRdzqarib",
        "colab_type": "text"
      },
      "source": [
        "# EXPLORING DISTRIBUTION OF TWEETS BY USER"
      ]
    },
    {
      "cell_type": "code",
      "metadata": {
        "id": "WD9oA1Pyaric",
        "colab_type": "code",
        "colab": {}
      },
      "source": [
        "#grouping tweets by user id\n",
        "dem_tweets_by_user = dem_tweets.groupby(\"user_id\").count().id"
      ],
      "execution_count": 0,
      "outputs": []
    },
    {
      "cell_type": "code",
      "metadata": {
        "id": "l4qyxS8garid",
        "colab_type": "code",
        "colab": {}
      },
      "source": [
        "rep_tweets_by_user = rep_tweets.groupby(\"user_id\").count().id"
      ],
      "execution_count": 0,
      "outputs": []
    },
    {
      "cell_type": "code",
      "metadata": {
        "id": "nIWzgJOYarie",
        "colab_type": "code",
        "colab": {
          "base_uri": "https://localhost:8080/",
          "height": 441
        },
        "outputId": "f99e78b2-c0a4-4c00-a44f-1342eb338a22"
      },
      "source": [
        "fig, axs = plt.subplots(2,1, figsize = (12,6))\n",
        "fig = rep_tweets_by_user.hist(color = \"r\", ax = axs[0])\n",
        "axs[0].set_title(\"Tweets(Rep)\")\n",
        "fig = dem_tweets_by_user.hist(color = \"b\", ax = axs[1])\n",
        "axs[1].set_title(\"Tweets(Dem)\")\n",
        "plt.tight_layout()"
      ],
      "execution_count": 73,
      "outputs": [
        {
          "output_type": "display_data",
          "data": {
            "image/png": "[encoded data removed]",
            "text/plain": [
              "<Figure size 864x432 with 2 Axes>"
            ]
          },
          "metadata": {
            "tags": []
          }
        }
      ]
    },
    {
      "cell_type": "code",
      "metadata": {
        "id": "G8radU69ari-",
        "colab_type": "code",
        "colab": {}
      },
      "source": [
        "#looking at differences by the time of sending the tweet\n",
        "def data_toplot_time_tweeted(d):\n",
        "    d[\"created_at\"] = pd.to_datetime(d.created_at)\n",
        "    by_hour = d.groupby(d.created_at.dt.hour).count()\n",
        "    return by_hour.id"
      ],
      "execution_count": 0,
      "outputs": []
    },
    {
      "cell_type": "code",
      "metadata": {
        "id": "AF_yxMUoarjA",
        "colab_type": "code",
        "colab": {}
      },
      "source": [
        "all_hours = data_toplot_time_tweeted(df)\n",
        "rep_hours = data_toplot_time_tweeted(rep_tweets)\n",
        "dem_hours = data_toplot_time_tweeted(dem_tweets)"
      ],
      "execution_count": 0,
      "outputs": []
    },
    {
      "cell_type": "code",
      "metadata": {
        "scrolled": true,
        "id": "XqOfpKtvarjB",
        "colab_type": "code",
        "colab": {
          "base_uri": "https://localhost:8080/",
          "height": 376
        },
        "outputId": "005585f0-f5f5-4194-9043-1f0e62e94610"
      },
      "source": [
        "fig4 = plt.figure()\n",
        "tweet_date_plot = all_hours.plot(label = \"all\")\n",
        "tweet_date_plot.plot(rep_hours, label = \"republican\")\n",
        "tweet_date_plot.plot(dem_hours, label = \"democrat\")\n",
        "tweet_date_plot.legend()\n",
        "tweet_date_plot.set_title(\"Tweets by tweet time, UTC\")\n",
        "plt.show()"
      ],
      "execution_count": 80,
      "outputs": [
        {
          "output_type": "display_data",
          "data": {
            "image/png": "[encoded data removed]",
            "text/plain": [
              "<Figure size 576x396 with 1 Axes>"
            ]
          },
          "metadata": {
            "tags": []
          }
        }
      ]
    },
    {
      "cell_type": "markdown",
      "metadata": {
        "id": "UENuLdivwrjk",
        "colab_type": "text"
      },
      "source": [
        "_Observation_ : Exploration of non-textual elements of the dataset (number of followers, tweets, time of tweeting) does not show significant or informative differences between the two parties. We proceed to explore the text of tweets."
      ]
    },
    {
      "cell_type": "markdown",
      "metadata": {
        "id": "Ksk9DAQNarjE",
        "colab_type": "text"
      },
      "source": [
        "## Exploring the text of tweets"
      ]
    },
    {
      "cell_type": "code",
      "metadata": {
        "id": "eFM_DP8lxIZR",
        "colab_type": "code",
        "colab": {
          "base_uri": "https://localhost:8080/",
          "height": 222
        },
        "outputId": "a00bb13b-5729-4d3e-fc86-8f7b581256ec"
      },
      "source": [
        "#installing libraries not included in google colab\n",
        "%pip install emoji"
      ],
      "execution_count": 82,
      "outputs": [
        {
          "output_type": "stream",
          "text": [
            "Collecting emoji\n",
            "\u001b[?25l  Downloading https://files.pythonhosted.org/packages/40/8d/521be7f0091fe0f2ae690cc044faf43e3445e0ff33c574eae752dd7e39fa/emoji-0.5.4.tar.gz (43kB)\n",
            "\r\u001b[K     |███████▌                        | 10kB 16.7MB/s eta 0:00:01\r\u001b[K     |███████████████                 | 20kB 2.1MB/s eta 0:00:01\r\u001b[K     |██████████████████████▋         | 30kB 2.8MB/s eta 0:00:01\r\u001b[K     |██████████████████████████████▏ | 40kB 2.1MB/s eta 0:00:01\r\u001b[K     |████████████████████████████████| 51kB 1.9MB/s \n",
            "\u001b[?25hBuilding wheels for collected packages: emoji\n",
            "  Building wheel for emoji (setup.py) ... \u001b[?25l\u001b[?25hdone\n",
            "  Created wheel for emoji: filename=emoji-0.5.4-cp36-none-any.whl size=42176 sha256=bf80466b0db565d18ed4659772669bf1d81e075d000abe761976bdfadb47ac73\n",
            "  Stored in directory: /root/.cache/pip/wheels/2a/a9/0a/4f8e8cce8074232aba240caca3fade315bb49fac68808d1a9c\n",
            "Successfully built emoji\n",
            "Installing collected packages: emoji\n",
            "Successfully installed emoji-0.5.4\n"
          ],
          "name": "stdout"
        }
      ]
    },
    {
      "cell_type": "code",
      "metadata": {
        "id": "Iten7y-4arjF",
        "colab_type": "code",
        "colab": {
          "base_uri": "https://localhost:8080/",
          "height": 54
        },
        "outputId": "1984c9f6-36d4-4aa9-f911-c6ef1ef06db7"
      },
      "source": [
        "#import necessary libraries\n",
        "import emoji\n",
        "import regex\n",
        "import collections\n",
        "import re  \n",
        "import nltk \n",
        "nltk.download('stopwords')  \n",
        "from nltk.corpus import stopwords"
      ],
      "execution_count": 83,
      "outputs": [
        {
          "output_type": "stream",
          "text": [
            "[nltk_data] Downloading package stopwords to /root/nltk_data...\n",
            "[nltk_data]   Unzipping corpora/stopwords.zip.\n"
          ],
          "name": "stdout"
        }
      ]
    },
    {
      "cell_type": "code",
      "metadata": {
        "id": "p8O3AiFtarjJ",
        "colab_type": "code",
        "colab": {}
      },
      "source": [
        "df = pd.read_json(\"with_aff.json\",lines = True)"
      ],
      "execution_count": 0,
      "outputs": []
    },
    {
      "cell_type": "code",
      "metadata": {
        "id": "aH5cf6-karjO",
        "colab_type": "code",
        "colab": {}
      },
      "source": [
        "df = df.set_index(\"id\")"
      ],
      "execution_count": 0,
      "outputs": []
    },
    {
      "cell_type": "code",
      "metadata": {
        "id": "noY-pK9YarjQ",
        "colab_type": "code",
        "colab": {},
        "outputId": "c8675a9d-63e5-49bf-8d7c-6f997b241934"
      },
      "source": [
        "#checking the information about the table\n",
        "df.info()"
      ],
      "execution_count": 0,
      "outputs": [
        {
          "output_type": "stream",
          "text": [
            "<class 'pandas.core.frame.DataFrame'>\n",
            "Int64Index: 1243370 entries, 877418565 to 872140026737336320\n",
            "Data columns (total 3 columns):\n",
            " #   Column                Non-Null Count    Dtype  \n",
            "---  ------                --------------    -----  \n",
            " 0   text                  1243370 non-null  object \n",
            " 1   user_id               1243370 non-null  int64  \n",
            " 2   probable_affiliation  1240590 non-null  float64\n",
            "dtypes: float64(1), int64(1), object(1)\n",
            "memory usage: 37.9+ MB\n"
          ],
          "name": "stdout"
        }
      ]
    },
    {
      "cell_type": "code",
      "metadata": {
        "id": "j9JsfFY5arjS",
        "colab_type": "code",
        "colab": {
          "base_uri": "https://localhost:8080/",
          "height": 73
        },
        "outputId": "2645ddb7-14d7-4658-be34-d7ede2e03e7d"
      },
      "source": [
        "df.probable_affiliation.value_counts()"
      ],
      "execution_count": 86,
      "outputs": [
        {
          "output_type": "execute_result",
          "data": {
            "text/plain": [
              "1.0    658926\n",
              "0.0    581664\n",
              "Name: probable_affiliation, dtype: int64"
            ]
          },
          "metadata": {
            "tags": []
          },
          "execution_count": 86
        }
      ]
    },
    {
      "cell_type": "code",
      "metadata": {
        "id": "s0cUjDfsarjT",
        "colab_type": "code",
        "colab": {}
      },
      "source": [
        "#dropping tweets from users whose affiliation was 'independent'\n",
        "df = df.dropna(axis = 0, how = \"any\")"
      ],
      "execution_count": 0,
      "outputs": []
    },
    {
      "cell_type": "code",
      "metadata": {
        "id": "CTlMSkoaarjX",
        "colab_type": "code",
        "colab": {}
      },
      "source": [
        "df[\"text_len\"] = df.apply(lambda x: len(x.text),axis =1)"
      ],
      "execution_count": 0,
      "outputs": []
    },
    {
      "cell_type": "code",
      "metadata": {
        "colab_type": "code",
        "outputId": "91f3622e-7ff3-4d57-f340-e3a4bc905f1b",
        "id": "K7LZPqc1zCdj",
        "colab": {
          "base_uri": "https://localhost:8080/",
          "height": 91
        }
      },
      "source": [
        "#looking at the length of the text (0 for democrates, 1 for republicans)\n",
        "df.groupby(\"probable_affiliation\").mean().text_len"
      ],
      "execution_count": 91,
      "outputs": [
        {
          "output_type": "execute_result",
          "data": {
            "text/plain": [
              "probable_affiliation\n",
              "0.0    126.08\n",
              "1.0    121.54\n",
              "Name: text_len, dtype: float64"
            ]
          },
          "metadata": {
            "tags": []
          },
          "execution_count": 91
        }
      ]
    },
    {
      "cell_type": "markdown",
      "metadata": {
        "id": "wpMLgwgc0cuD",
        "colab_type": "text"
      },
      "source": [
        "_Observation_: Democrat's tweets are 5 characters longer on average. Next, we will look at another metric that would be lost after the cleaning of the texts: who uses more emoji."
      ]
    },
    {
      "cell_type": "code",
      "metadata": {
        "id": "0FB6BPsJarji",
        "colab_type": "code",
        "colab": {}
      },
      "source": [
        "#a string to text the emoji-detecting function\n",
        "mytext = \"In the shadows 👩🏾‍🎓 of the #ComeyHearing, @HouseGOP plans to let Wall Street banks take the same risks that led to the 2008 financial crisis.🤦‍♂️ https://t.co/GsVMk9Q9Xp\""
      ],
      "execution_count": 0,
      "outputs": []
    },
    {
      "cell_type": "code",
      "metadata": {
        "id": "KCMWwEo1arjo",
        "colab_type": "code",
        "colab": {
          "base_uri": "https://localhost:8080/",
          "height": 36
        },
        "outputId": "2c08493c-8fbc-45cd-ee6d-bbbc658e45dc"
      },
      "source": [
        "def emojilist(text):\n",
        "  \"\"\"A function that returns a list of emoji used in a text\"\"\"\n",
        "  emoji_list = []\n",
        "  data = regex.findall(r'\\X', text)\n",
        "  for word in data:\n",
        "      if any(char in emoji.UNICODE_EMOJI for char in word):\n",
        "            emoji_list.append(word)\n",
        "  return emoji_list\n",
        "split_count(mytext)"
      ],
      "execution_count": 99,
      "outputs": [
        {
          "output_type": "execute_result",
          "data": {
            "text/plain": [
              "['👩🏾\\u200d🎓', '🤦\\u200d♂️']"
            ]
          },
          "metadata": {
            "tags": []
          },
          "execution_count": 99
        }
      ]
    },
    {
      "cell_type": "code",
      "metadata": {
        "id": "EnbRTp8qarjp",
        "colab_type": "code",
        "colab": {}
      },
      "source": [
        "#applying the function on the dataframe\n",
        "df[\"emoji\"] = df.apply(lambda x: emojilist(x.text), axis = 1)"
      ],
      "execution_count": 0,
      "outputs": []
    },
    {
      "cell_type": "code",
      "metadata": {
        "id": "50ji34iKarjq",
        "colab_type": "code",
        "colab": {}
      },
      "source": [
        "#let's get the list of the emoji used and count them to see the emoji most commonly used\n",
        "used_emoji = df.loc[df.emoji.str.len() > 0]"
      ],
      "execution_count": 0,
      "outputs": []
    },
    {
      "cell_type": "code",
      "metadata": {
        "id": "aP6AncKGarjs",
        "colab_type": "code",
        "colab": {}
      },
      "source": [
        "emoji = [emoji for lists in used_emoji.emoji for emoji in lists]"
      ],
      "execution_count": 0,
      "outputs": []
    },
    {
      "cell_type": "code",
      "metadata": {
        "id": "Sh8bylQqarjw",
        "colab_type": "code",
        "colab": {}
      },
      "source": [
        "emoji_counter = collections.Counter()"
      ],
      "execution_count": 0,
      "outputs": []
    },
    {
      "cell_type": "code",
      "metadata": {
        "id": "lgZJ_HOnarjx",
        "colab_type": "code",
        "colab": {}
      },
      "source": [
        "emoji_counter.update(emoji)"
      ],
      "execution_count": 0,
      "outputs": []
    },
    {
      "cell_type": "code",
      "metadata": {
        "id": "kUO-ivFbarjy",
        "colab_type": "code",
        "colab": {
          "base_uri": "https://localhost:8080/",
          "height": 54
        },
        "outputId": "8ad7bec6-6c70-44b8-b829-c2704dc6bf48"
      },
      "source": [
        "sorted_dic = {k: v for k, v in sorted(emoji_counter.items(), key=lambda item: item[1], reverse = True)}\n",
        "print(list(sorted_dic.keys())[:5])\n",
        "print(list(sorted_dic.values())[:5])\n",
        "#5 most-used emoji include phone and the US flag (the most used emoji)"
      ],
      "execution_count": 110,
      "outputs": [
        {
          "output_type": "stream",
          "text": [
            "['🇺🇸', '➡️', '✅', '❌', '📱']\n",
            "[1896, 533, 440, 283, 277]\n"
          ],
          "name": "stdout"
        }
      ]
    },
    {
      "cell_type": "code",
      "metadata": {
        "id": "XRv5g1Hxarj0",
        "colab_type": "code",
        "colab": {}
      },
      "source": [
        "#adding a metric of the number of emoji used in a tweet\n",
        "df[\"num_emoji\"] = df.emoji.str.len()"
      ],
      "execution_count": 0,
      "outputs": []
    },
    {
      "cell_type": "code",
      "metadata": {
        "id": "jkZ9_YyDarj2",
        "colab_type": "code",
        "colab": {
          "base_uri": "https://localhost:8080/",
          "height": 91
        },
        "outputId": "6a511784-eff3-48d6-ab6b-9f9fa26e1890"
      },
      "source": [
        "#looking at the metric by the political party\n",
        "df.groupby(\"probable_affiliation\").sum().num_emoji"
      ],
      "execution_count": 116,
      "outputs": [
        {
          "output_type": "execute_result",
          "data": {
            "text/plain": [
              "probable_affiliation\n",
              "0.0    7450.0\n",
              "1.0    6353.0\n",
              "Name: num_emoji, dtype: float64"
            ]
          },
          "metadata": {
            "tags": []
          },
          "execution_count": 116
        }
      ]
    },
    {
      "cell_type": "markdown",
      "metadata": {
        "id": "-tOGSu_r3wn_",
        "colab_type": "text"
      },
      "source": [
        "_Observation_: adding an emoji appears to be an unusual behaviour for US politicians, but democrats do it a little more often. Overall, non-textual metrics do not seem very informative. We proceed now to the exploration of text of tweets, first cleaning them."
      ]
    },
    {
      "cell_type": "code",
      "metadata": {
        "id": "a28nPOt_arkK",
        "colab_type": "code",
        "colab": {}
      },
      "source": [
        "#removing links\n",
        "df[\"cleaned_text\"] = df.text.str.replace(\"(https|http)?:\\/\\/(\\w|\\.|\\/|\\?|\\=|\\&|\\%)*\", \"\")"
      ],
      "execution_count": 0,
      "outputs": []
    },
    {
      "cell_type": "code",
      "metadata": {
        "id": "47FhPvj_arkM",
        "colab_type": "code",
        "colab": {}
      },
      "source": [
        "#remove special characters\n",
        "df[\"cleaned_text\"] = df.cleaned_text.str.replace('\\W', ' ', regex=True)"
      ],
      "execution_count": 0,
      "outputs": []
    },
    {
      "cell_type": "code",
      "metadata": {
        "id": "tZKqx3aLarkN",
        "colab_type": "code",
        "colab": {}
      },
      "source": [
        "#remove single characters\n",
        "df[\"cleaned_text\"] = df.cleaned_text.str.replace('\\s[A-Za-z]\\s', ' ', regex=True)"
      ],
      "execution_count": 0,
      "outputs": []
    },
    {
      "cell_type": "code",
      "metadata": {
        "id": "eqHb4Ia4arkN",
        "colab_type": "code",
        "colab": {}
      },
      "source": [
        "#remove single characters from the start\n",
        "df[\"cleaned_text\"] = df.cleaned_text.str.replace('^[A-Za-z]\\s', ' ', regex=True)"
      ],
      "execution_count": 0,
      "outputs": []
    },
    {
      "cell_type": "code",
      "metadata": {
        "id": "RScVWg37arkP",
        "colab_type": "code",
        "colab": {}
      },
      "source": [
        "#remove single characters from the end\n",
        "df[\"cleaned_text\"] = df.cleaned_text.str.replace('\\s[A-Za-z]$', ' ', regex=True)"
      ],
      "execution_count": 0,
      "outputs": []
    },
    {
      "cell_type": "code",
      "metadata": {
        "id": "2_4p7PR1arkQ",
        "colab_type": "code",
        "colab": {}
      },
      "source": [
        "#remove multiple spaces\n",
        "df[\"cleaned_text\"] = df.cleaned_text.str.replace('\\s+', ' ', regex=True)"
      ],
      "execution_count": 0,
      "outputs": []
    },
    {
      "cell_type": "code",
      "metadata": {
        "id": "GKSK7qu4arkR",
        "colab_type": "code",
        "colab": {}
      },
      "source": [
        "#remove numbers\n",
        "df[\"cleaned_text\"] = df.cleaned_text.str.replace('[0-9]*', '', regex=True)"
      ],
      "execution_count": 0,
      "outputs": []
    },
    {
      "cell_type": "code",
      "metadata": {
        "id": "I7SgEYwBarkT",
        "colab_type": "code",
        "colab": {}
      },
      "source": [
        "#to lowercase\n",
        "df[\"cleaned_text\"] = df.cleaned_text.str.lower()"
      ],
      "execution_count": 0,
      "outputs": []
    },
    {
      "cell_type": "code",
      "metadata": {
        "id": "jYgKiDxyarkU",
        "colab_type": "code",
        "colab": {}
      },
      "source": [
        "stops = stopwords.words('english')"
      ],
      "execution_count": 0,
      "outputs": []
    },
    {
      "cell_type": "code",
      "metadata": {
        "id": "wHqiTGX0arkU",
        "colab_type": "code",
        "colab": {}
      },
      "source": [
        "#filtering out stopwords\n",
        "df[\"text_non_stop_words\"] = df.cleaned_text.apply(lambda x: [item.lower() for item in x.split() if item.lower() not in stops])"
      ],
      "execution_count": 0,
      "outputs": []
    },
    {
      "cell_type": "code",
      "metadata": {
        "id": "rdj2r0qzarkX",
        "colab_type": "code",
        "colab": {},
        "outputId": "b0900d75-64a5-472a-edfa-358fcdb6abac"
      },
      "source": [
        "#looking at word clouds for all users and by party\n",
        "from collections import Counter\n",
        "from wordcloud import WordCloud\n",
        "\n",
        "def calc_and_display_wc(df_ind):\n",
        "    df = df_ind.copy()\n",
        "    corpus = []\n",
        "    for item_list in df.text_non_stop_words:\n",
        "        corpus += item_list\n",
        "    wordDict = Counter(corpus)\n",
        "    wordcloud = WordCloud().generate_from_frequencies(wordDict)\n",
        "    plt.imshow(wordcloud, interpolation = 'bilinear')\n",
        "    plt.axis('off')\n",
        "    plt.show()\n",
        "calc_and_display_wc(df)"
      ],
      "execution_count": 0,
      "outputs": [
        {
          "output_type": "display_data",
          "data": {
            "image/png": "[encoded data removed]",
            "text/plain": [
              "<Figure size 432x288 with 1 Axes>"
            ]
          },
          "metadata": {
            "tags": [],
            "needs_background": "light"
          }
        }
      ]
    },
    {
      "cell_type": "code",
      "metadata": {
        "id": "dYNeaMfYarkY",
        "colab_type": "code",
        "colab": {}
      },
      "source": [
        "dem_df = df.loc[df.probable_affiliation == 0].copy()"
      ],
      "execution_count": 0,
      "outputs": []
    },
    {
      "cell_type": "code",
      "metadata": {
        "id": "GerMxuRtarkZ",
        "colab_type": "code",
        "colab": {},
        "outputId": "57741e24-8d13-431c-9fd9-5d3f0e33f66b"
      },
      "source": [
        "rep_df = df.loc[df.probable_affiliation == 1].copy()\n",
        "#testing if dem/rep splitting went alright\n",
        "dem_df.shape[0] + rep_df.shape[0] == df.shape[0] "
      ],
      "execution_count": 0,
      "outputs": [
        {
          "output_type": "execute_result",
          "data": {
            "text/plain": [
              "True"
            ]
          },
          "metadata": {
            "tags": []
          },
          "execution_count": 293
        }
      ]
    },
    {
      "cell_type": "code",
      "metadata": {
        "id": "3z6sY_zOarkb",
        "colab_type": "code",
        "colab": {},
        "outputId": "ded9de98-e721-4c8c-c014-aff0b2aa457f"
      },
      "source": [
        "#democrats' wordcloud\n",
        "calc_and_display_wc(dem_df)"
      ],
      "execution_count": 0,
      "outputs": [
        {
          "output_type": "display_data",
          "data": {
            "image/png": "[encoded data removed]",
            "text/plain": [
              "<Figure size 432x288 with 1 Axes>"
            ]
          },
          "metadata": {
            "tags": [],
            "needs_background": "light"
          }
        }
      ]
    },
    {
      "cell_type": "code",
      "metadata": {
        "id": "p8DFIlXaarkd",
        "colab_type": "code",
        "colab": {},
        "outputId": "e5cd32cd-345f-4fd4-aabd-cfb95ba747dd"
      },
      "source": [
        "#republicans' wordcloud\n",
        "calc_and_display_wc(rep_df)"
      ],
      "execution_count": 0,
      "outputs": [
        {
          "output_type": "display_data",
          "data": {
            "image/png": "[encoded data removed]",
            "text/plain": [
              "<Figure size 432x288 with 1 Axes>"
            ]
          },
          "metadata": {
            "tags": [],
            "needs_background": "light"
          }
        }
      ]
    },
    {
      "cell_type": "markdown",
      "metadata": {
        "id": "6GtZEngd4s6c",
        "colab_type": "text"
      },
      "source": [
        "_Observation_: Both Democrats and Republicans use the words \"Great\" and \"Thank\" a lot, Democrats talk often about Trump and Republicans about Obama. There is also a difference in how they talk about heathcare policy, with Democrats referring about \"health\" and Republicans about \"Obamacare\". In this way, we see some indications of political polarization, and proceed on evaluating polarization through textual characteristics of tweets, attempting logistic regression based on tf-idf-weighted bigram/uniram matrix. "
      ]
    },
    {
      "cell_type": "markdown",
      "metadata": {
        "id": "f7B4IF0larkv",
        "colab_type": "text"
      },
      "source": [
        "## Predicting political affiliation (tweetwise) by tf-idf weighted bigrams and unigrams "
      ]
    },
    {
      "cell_type": "code",
      "metadata": {
        "id": "udyIHkR_arkv",
        "colab_type": "code",
        "colab": {}
      },
      "source": [
        "#create a matrix of ngrams\n",
        "#use idf weights, ngrams appearing in less than 100 tweets and more than 50%\n",
        "#tweets are discarded\n",
        "from sklearn.feature_extraction.text import TfidfVectorizer\n",
        "vectorizer = TfidfVectorizer(stop_words='english', \n",
        "                             use_idf=True,                              \n",
        "                             ngram_range=(1,2),    \n",
        "                             min_df = 100,          \n",
        "                             max_df = .5           \n",
        "                             )"
      ],
      "execution_count": 0,
      "outputs": []
    },
    {
      "cell_type": "code",
      "metadata": {
        "id": "OMdNxhHHarkw",
        "colab_type": "code",
        "colab": {}
      },
      "source": [
        "ngrams = vectorizer.fit_transform(df.cleaned_text)"
      ],
      "execution_count": 0,
      "outputs": []
    },
    {
      "cell_type": "code",
      "metadata": {
        "id": "Yc_lQLtFarkx",
        "colab_type": "code",
        "colab": {},
        "outputId": "e45569cd-22e7-465d-aa4d-d19f5599a846"
      },
      "source": [
        "ngrams"
      ],
      "execution_count": 0,
      "outputs": [
        {
          "output_type": "execute_result",
          "data": {
            "text/plain": [
              "<1240590x17428 sparse matrix of type '<class 'numpy.float64'>'\n",
              "\twith 12757683 stored elements in Compressed Sparse Row format>"
            ]
          },
          "metadata": {
            "tags": []
          },
          "execution_count": 234
        }
      ]
    },
    {
      "cell_type": "code",
      "metadata": {
        "id": "Q0ehTfEWark3",
        "colab_type": "code",
        "colab": {}
      },
      "source": [
        "#importing necessary libraries, performing normalization of the matrix\n",
        "from sklearn.linear_model import LogisticRegression\n",
        "from sklearn.model_selection import train_test_split"
      ],
      "execution_count": 0,
      "outputs": []
    },
    {
      "cell_type": "code",
      "metadata": {
        "id": "AvRK0h-fark5",
        "colab_type": "code",
        "colab": {}
      },
      "source": [
        "from sklearn.preprocessing import StandardScaler\n",
        "sparse_scaler = StandardScaler(with_mean=False)\n",
        "ngrams_sd = sparse_scaler.fit_transform(ngrams)"
      ],
      "execution_count": 0,
      "outputs": []
    },
    {
      "cell_type": "code",
      "metadata": {
        "id": "ZqLhYPU3ark7",
        "colab_type": "code",
        "colab": {},
        "outputId": "6ea2f532-67bb-4867-f0a0-7ae3cb9df3a5"
      },
      "source": [
        "#defining x and y - ngrams matrix and party affiliation\n",
        "X = ngrams_sd\n",
        "y = df.probable_affiliation\n",
        "print(X.shape)\n",
        "print(y.shape)"
      ],
      "execution_count": 0,
      "outputs": [
        {
          "output_type": "stream",
          "text": [
            "(1240590, 17428)\n",
            "(1240590,)\n"
          ],
          "name": "stdout"
        }
      ]
    },
    {
      "cell_type": "code",
      "metadata": {
        "id": "TeAAAHApark8",
        "colab_type": "code",
        "colab": {}
      },
      "source": [
        "X_train, X_test, y_train, y_test = train_test_split(X, y, test_size = 0.3)"
      ],
      "execution_count": 0,
      "outputs": []
    },
    {
      "cell_type": "code",
      "metadata": {
        "id": "YNeDb9sNark9",
        "colab_type": "code",
        "colab": {},
        "outputId": "96f86f8b-36eb-4fad-8632-98767ed8c274"
      },
      "source": [
        "#determining the best value of L2 penalty through randomized search\n",
        "from sklearn.model_selection import RandomizedSearchCV\n",
        "logit = LogisticRegression(C=1, \n",
        "                            class_weight='balanced',\n",
        "                            solver='liblinear')\n",
        "\n",
        "param_grid = {'C': [.1, .5,1,2,10]}\n",
        "\n",
        "grid_search = RandomizedSearchCV(logit, \n",
        "                           param_grid, \n",
        "                           cv=3,\n",
        "                           n_iter=5)     \n",
        "\n",
        "grid_search.fit(X_train,y_train)\n",
        "\n",
        "print(grid_search.best_params_)\n",
        "print(np.abs(grid_search.best_score_))"
      ],
      "execution_count": 0,
      "outputs": [
        {
          "output_type": "stream",
          "text": [
            "{'C': 0.1}\n",
            "0.8068799062197365\n"
          ],
          "name": "stdout"
        }
      ]
    },
    {
      "cell_type": "code",
      "metadata": {
        "id": "-dX89EPHark_",
        "colab_type": "code",
        "colab": {},
        "outputId": "9e55d859-e4ce-4d21-bb4e-2716b7920fa4"
      },
      "source": [
        "#checking accuracy for the best model\n",
        "from sklearn.model_selection import cross_val_score\n",
        "logit = LogisticRegression(C=grid_search.best_params_['C'], \n",
        "                              class_weight='balanced',\n",
        "                              solver='liblinear')\n",
        "scores = cross_val_score(logit,\n",
        "                         X_train,\n",
        "                         y_train,\n",
        "                         cv=3,\n",
        "                         scoring='f1',\n",
        "                         error_score='raise')\n",
        "\n",
        "scores.mean(), scores.std()"
      ],
      "execution_count": 0,
      "outputs": [
        {
          "output_type": "execute_result",
          "data": {
            "text/plain": [
              "(0.8184010637181695, 0.0006625063449502574)"
            ]
          },
          "metadata": {
            "tags": []
          },
          "execution_count": 255
        }
      ]
    },
    {
      "cell_type": "code",
      "metadata": {
        "id": "bMVTU06YarlA",
        "colab_type": "code",
        "colab": {}
      },
      "source": [
        "#fitting and evaluating the model on the train test\n",
        "from sklearn.model_selection import cross_val_predict\n",
        "from sklearn.metrics import confusion_matrix"
      ],
      "execution_count": 0,
      "outputs": []
    },
    {
      "cell_type": "code",
      "metadata": {
        "id": "cXrjeVfbarlC",
        "colab_type": "code",
        "colab": {},
        "outputId": "6d4f2236-1792-4ff4-aaaa-395a829d0af1"
      },
      "source": [
        "logit.fit(X_train, y_train)"
      ],
      "execution_count": 0,
      "outputs": [
        {
          "output_type": "execute_result",
          "data": {
            "text/plain": [
              "LogisticRegression(C=0.1, class_weight='balanced', dual=False,\n",
              "          fit_intercept=True, intercept_scaling=1, max_iter=100,\n",
              "          multi_class='warn', n_jobs=None, penalty='l2', random_state=None,\n",
              "          solver='liblinear', tol=0.0001, verbose=0, warm_start=False)"
            ]
          },
          "metadata": {
            "tags": []
          },
          "execution_count": 260
        }
      ]
    },
    {
      "cell_type": "code",
      "metadata": {
        "id": "6ur4zJjfarlD",
        "colab_type": "code",
        "colab": {}
      },
      "source": [
        "predicted_train = logit.predict(X_train)"
      ],
      "execution_count": 0,
      "outputs": []
    },
    {
      "cell_type": "code",
      "metadata": {
        "id": "nwks_x_4arlE",
        "colab_type": "code",
        "colab": {},
        "outputId": "e8696ec3-3208-40fa-8194-14cea65cd9b4"
      },
      "source": [
        "#precision and recall\n",
        "confusion_matrix(y_train, predicted_train)"
      ],
      "execution_count": 0,
      "outputs": [
        {
          "output_type": "execute_result",
          "data": {
            "text/plain": [
              "array([[329730,  77341],\n",
              "       [ 76218, 385124]])"
            ]
          },
          "metadata": {
            "tags": []
          },
          "execution_count": 262
        }
      ]
    },
    {
      "cell_type": "code",
      "metadata": {
        "id": "0u56GMxSarlF",
        "colab_type": "code",
        "colab": {},
        "outputId": "017aa7df-f446-4777-f5e9-5e684bb92e81"
      },
      "source": [
        "#accuracy\n",
        "print(\"Training accuracy\")\n",
        "logit.score(X_train, y_train)"
      ],
      "execution_count": 0,
      "outputs": [
        {
          "output_type": "stream",
          "text": [
            "Training accuracy\n"
          ],
          "name": "stdout"
        },
        {
          "output_type": "execute_result",
          "data": {
            "text/plain": [
              "0.8231728451785038"
            ]
          },
          "metadata": {
            "tags": []
          },
          "execution_count": 263
        }
      ]
    },
    {
      "cell_type": "code",
      "metadata": {
        "id": "yXzrnKoIarlH",
        "colab_type": "code",
        "colab": {},
        "outputId": "b623d4c5-2f3b-46f0-cb00-9fa5770783ad"
      },
      "source": [
        "#checking F-1 Score\n",
        "print(\"F-1 Score == The balance between precision and recall, 2*((precision*recall)/(precision+recall))\")\n"
      ],
      "execution_count": 0,
      "outputs": [
        {
          "output_type": "stream",
          "text": [
            "F-1 Score == The balance between precision and recall, 2*((precision*recall)/(precision+recall))\n"
          ],
          "name": "stdout"
        }
      ]
    },
    {
      "cell_type": "code",
      "metadata": {
        "id": "zmW8PNiUarlI",
        "colab_type": "code",
        "colab": {},
        "outputId": "cba35dc3-c0e1-419d-e77e-532f79337510"
      },
      "source": [
        "from sklearn.metrics import f1_score\n",
        "print(f1_score(y_train, predicted_train))"
      ],
      "execution_count": 0,
      "outputs": [
        {
          "output_type": "stream",
          "text": [
            "0.833775886088761\n"
          ],
          "name": "stdout"
        }
      ]
    },
    {
      "cell_type": "code",
      "metadata": {
        "id": "BUagoEMParlJ",
        "colab_type": "code",
        "colab": {},
        "outputId": "9655aee8-341d-4eb6-c0b6-7268a737a95c"
      },
      "source": [
        "#evaluating the model on the unseen data\n",
        "predicted_test = logit.predict(X_test)\n",
        "print(\"Test accuracy\")\n",
        "print(logit.score(X_test, y_test))\n",
        "print(\"Test F1\")\n",
        "print(f1_score(y_test, predicted_test))"
      ],
      "execution_count": 0,
      "outputs": [
        {
          "output_type": "stream",
          "text": [
            "Test accuracy\n",
            "0.81033486754958\n",
            "Test F1\n",
            "0.8215110207570022\n"
          ],
          "name": "stdout"
        }
      ]
    },
    {
      "cell_type": "code",
      "metadata": {
        "id": "--xHplvTarlK",
        "colab_type": "code",
        "colab": {},
        "outputId": "0d06310c-ff67-45a2-9800-b984df9a20ac"
      },
      "source": [
        "confusion_matrix(y_test, predicted_test)"
      ],
      "execution_count": 0,
      "outputs": [
        {
          "output_type": "execute_result",
          "data": {
            "text/plain": [
              "array([[139142,  35451],\n",
              "       [ 35138, 162446]])"
            ]
          },
          "metadata": {
            "tags": []
          },
          "execution_count": 267
        }
      ]
    },
    {
      "cell_type": "code",
      "metadata": {
        "id": "8GZWYvMharlY",
        "colab_type": "code",
        "colab": {}
      },
      "source": [
        "#look at the probabilities predicited\n",
        "y_predprob_logit_train = logit.predict_proba(X_train)"
      ],
      "execution_count": 0,
      "outputs": []
    },
    {
      "cell_type": "code",
      "metadata": {
        "id": "-IXffuqQarlZ",
        "colab_type": "code",
        "colab": {}
      },
      "source": [
        "y_predprob_logit_test = logit.predict_proba(X_test)"
      ],
      "execution_count": 0,
      "outputs": []
    },
    {
      "cell_type": "code",
      "metadata": {
        "id": "sHNF_82Qarlb",
        "colab_type": "code",
        "colab": {},
        "outputId": "5cfa1c15-0bbd-41d7-b74c-3eec1d73accb"
      },
      "source": [
        "y_predprob_logit_test"
      ],
      "execution_count": 0,
      "outputs": [
        {
          "output_type": "execute_result",
          "data": {
            "text/plain": [
              "array([[0.63651249, 0.36348751],\n",
              "       [0.96701519, 0.03298481],\n",
              "       [0.44222748, 0.55777252],\n",
              "       ...,\n",
              "       [0.20781177, 0.79218823],\n",
              "       [0.370471  , 0.629529  ],\n",
              "       [0.02103987, 0.97896013]])"
            ]
          },
          "metadata": {
            "tags": []
          },
          "execution_count": 270
        }
      ]
    },
    {
      "cell_type": "code",
      "metadata": {
        "id": "M2xP5venarld",
        "colab_type": "code",
        "colab": {}
      },
      "source": [
        "y_predprob_logit_train = y_predprob_logit_train[:,1].reshape(-1,1)"
      ],
      "execution_count": 0,
      "outputs": []
    },
    {
      "cell_type": "code",
      "metadata": {
        "id": "5mxnykGTarle",
        "colab_type": "code",
        "colab": {},
        "outputId": "6b9c511b-1405-40b8-ef6a-bf55a5a49714"
      },
      "source": [
        "y_predprob_logit_train"
      ],
      "execution_count": 0,
      "outputs": [
        {
          "output_type": "execute_result",
          "data": {
            "text/plain": [
              "array([[0.76247977],\n",
              "       [0.22820678],\n",
              "       [0.26669833],\n",
              "       ...,\n",
              "       [0.78650487],\n",
              "       [0.07802103],\n",
              "       [0.05259858]])"
            ]
          },
          "metadata": {
            "tags": []
          },
          "execution_count": 272
        }
      ]
    },
    {
      "cell_type": "code",
      "metadata": {
        "id": "YjV_7HJDarlf",
        "colab_type": "code",
        "colab": {},
        "outputId": "ce35638d-18ee-478c-a722-606aa166a2bc"
      },
      "source": [
        "#plotting against actual values for training set\n",
        "import seaborn as sns\n",
        "sns.regplot(y_predprob_logit_train, y_train, x_bins=5)"
      ],
      "execution_count": 0,
      "outputs": [
        {
          "output_type": "execute_result",
          "data": {
            "text/plain": [
              "<matplotlib.axes._subplots.AxesSubplot at 0x230619ef0>"
            ]
          },
          "metadata": {
            "tags": []
          },
          "execution_count": 277
        },
        {
          "output_type": "display_data",
          "data": {
            "image/png": "[encoded data removed]",
            "text/plain": [
              "<Figure size 432x288 with 1 Axes>"
            ]
          },
          "metadata": {
            "tags": [],
            "needs_background": "light"
          }
        }
      ]
    },
    {
      "cell_type": "code",
      "metadata": {
        "id": "zou-bctoarlg",
        "colab_type": "code",
        "colab": {},
        "outputId": "39219f70-e4a1-4476-ca19-762224d222f4"
      },
      "source": [
        "#plotting against actual values for test set\n",
        "y_predprob_logit_test = y_predprob_logit_test[:,1].reshape(-1,1)\n",
        "sns.regplot(y_predprob_logit_test, y_test, x_bins=5)"
      ],
      "execution_count": 0,
      "outputs": [
        {
          "output_type": "execute_result",
          "data": {
            "text/plain": [
              "<matplotlib.axes._subplots.AxesSubplot at 0x22e4af080>"
            ]
          },
          "metadata": {
            "tags": []
          },
          "execution_count": 279
        },
        {
          "output_type": "display_data",
          "data": {
            "image/png": "[encoded data removed]",
            "text/plain": [
              "<Figure size 432x288 with 1 Axes>"
            ]
          },
          "metadata": {
            "tags": [],
            "needs_background": "light"
          }
        }
      ]
    }
  ]
}